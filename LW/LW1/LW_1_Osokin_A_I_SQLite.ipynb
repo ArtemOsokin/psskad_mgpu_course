{
 "cells": [
  {
   "cell_type": "markdown",
   "id": "27571ccd-945b-480e-a7db-5f4bd21f013b",
   "metadata": {},
   "source": [
    "1. Установка необходимых библиотек:"
   ]
  },
  {
   "cell_type": "code",
   "execution_count": 1,
   "id": "53c9ce37-c3ad-45a1-81e5-a05e1465455f",
   "metadata": {},
   "outputs": [
    {
     "name": "stdout",
     "output_type": "stream",
     "text": [
      "Requirement already satisfied: requests in ./.config/jupyterlab-desktop/jlab_server/lib/python3.12/site-packages (2.32.2)\n",
      "Requirement already satisfied: beautifulsoup4 in ./.config/jupyterlab-desktop/jlab_server/lib/python3.12/site-packages (4.12.3)\n",
      "Requirement already satisfied: pymongo in ./.config/jupyterlab-desktop/jlab_server/lib/python3.12/site-packages (4.8.0)\n",
      "Requirement already satisfied: pandas in ./.config/jupyterlab-desktop/jlab_server/lib/python3.12/site-packages (2.2.2)\n",
      "Requirement already satisfied: matplotlib in ./.config/jupyterlab-desktop/jlab_server/lib/python3.12/site-packages (3.8.4)\n",
      "Requirement already satisfied: charset-normalizer<4,>=2 in ./.config/jupyterlab-desktop/jlab_server/lib/python3.12/site-packages (from requests) (3.3.2)\n",
      "Requirement already satisfied: idna<4,>=2.5 in ./.config/jupyterlab-desktop/jlab_server/lib/python3.12/site-packages (from requests) (3.7)\n",
      "Requirement already satisfied: urllib3<3,>=1.21.1 in ./.config/jupyterlab-desktop/jlab_server/lib/python3.12/site-packages (from requests) (2.2.1)\n",
      "Requirement already satisfied: certifi>=2017.4.17 in ./.config/jupyterlab-desktop/jlab_server/lib/python3.12/site-packages (from requests) (2024.2.2)\n",
      "Requirement already satisfied: soupsieve>1.2 in ./.config/jupyterlab-desktop/jlab_server/lib/python3.12/site-packages (from beautifulsoup4) (2.5)\n",
      "Requirement already satisfied: dnspython<3.0.0,>=1.16.0 in ./.config/jupyterlab-desktop/jlab_server/lib/python3.12/site-packages (from pymongo) (2.6.1)\n",
      "Requirement already satisfied: numpy>=1.26.0 in ./.config/jupyterlab-desktop/jlab_server/lib/python3.12/site-packages (from pandas) (1.26.4)\n",
      "Requirement already satisfied: python-dateutil>=2.8.2 in ./.config/jupyterlab-desktop/jlab_server/lib/python3.12/site-packages (from pandas) (2.9.0)\n",
      "Requirement already satisfied: pytz>=2020.1 in ./.config/jupyterlab-desktop/jlab_server/lib/python3.12/site-packages (from pandas) (2024.1)\n",
      "Requirement already satisfied: tzdata>=2022.7 in ./.config/jupyterlab-desktop/jlab_server/lib/python3.12/site-packages (from pandas) (2024.1)\n",
      "Requirement already satisfied: contourpy>=1.0.1 in ./.config/jupyterlab-desktop/jlab_server/lib/python3.12/site-packages (from matplotlib) (1.2.1)\n",
      "Requirement already satisfied: cycler>=0.10 in ./.config/jupyterlab-desktop/jlab_server/lib/python3.12/site-packages (from matplotlib) (0.12.1)\n",
      "Requirement already satisfied: fonttools>=4.22.0 in ./.config/jupyterlab-desktop/jlab_server/lib/python3.12/site-packages (from matplotlib) (4.51.0)\n",
      "Requirement already satisfied: kiwisolver>=1.3.1 in ./.config/jupyterlab-desktop/jlab_server/lib/python3.12/site-packages (from matplotlib) (1.4.5)\n",
      "Requirement already satisfied: packaging>=20.0 in ./.config/jupyterlab-desktop/jlab_server/lib/python3.12/site-packages (from matplotlib) (24.0)\n",
      "Requirement already satisfied: pillow>=8 in ./.config/jupyterlab-desktop/jlab_server/lib/python3.12/site-packages (from matplotlib) (10.3.0)\n",
      "Requirement already satisfied: pyparsing>=2.3.1 in ./.config/jupyterlab-desktop/jlab_server/lib/python3.12/site-packages (from matplotlib) (3.1.2)\n",
      "Requirement already satisfied: six>=1.5 in ./.config/jupyterlab-desktop/jlab_server/lib/python3.12/site-packages (from python-dateutil>=2.8.2->pandas) (1.16.0)\n",
      "Note: you may need to restart the kernel to use updated packages.\n"
     ]
    }
   ],
   "source": [
    "pip install requests beautifulsoup4 pymongo pandas matplotlib "
   ]
  },
  {
   "cell_type": "markdown",
   "id": "18111054-fc57-4f43-94aa-775b1d351864",
   "metadata": {},
   "source": [
    "2. Импортирование библиотек: "
   ]
  },
  {
   "cell_type": "code",
   "execution_count": 2,
   "id": "af7e6295-83cb-4043-b31d-9e3ab7b29fc0",
   "metadata": {},
   "outputs": [],
   "source": [
    "import requests\n",
    "from bs4 import BeautifulSoup\n",
    "from pymongo import MongoClient\n",
    "import sqlite3\n",
    "import pandas as pd\n",
    "import matplotlib.pyplot as plt "
   ]
  },
  {
   "cell_type": "markdown",
   "id": "0fc65113-daf6-46c4-9edd-c33363363c12",
   "metadata": {},
   "source": [
    "3. Получение данных через API: "
   ]
  },
  {
   "cell_type": "code",
   "execution_count": 3,
   "id": "9300aee5-7cfc-418d-b27f-2242e6f20c7c",
   "metadata": {},
   "outputs": [],
   "source": [
    "url = 'https://api.worldbank.org/v2/country/all/indicator/EN.ATM.CO2E.KT?format=json&date=2010:2020'\n",
    "response = requests.get(url)\n",
    "data = response.json()\n",
    "\n",
    "url_gdp = 'https://api.worldbank.org/v2/country/all/indicator/NY.GDP.MKTP.CD?format=json&date=2010:2020'\n",
    "response_gdp = requests.get(url_gdp)\n",
    "data_gdp = response_gdp.json()"
   ]
  },
  {
   "cell_type": "markdown",
   "id": "815c899b-1c41-44c0-853b-64186293cf61",
   "metadata": {},
   "source": [
    "4. Извлечение данных и создание DataFrame: "
   ]
  },
  {
   "cell_type": "code",
   "execution_count": 4,
   "id": "7c4b7f2c-5b0d-47a7-942c-0f3de50d9dc7",
   "metadata": {},
   "outputs": [],
   "source": [
    "df_co2 = pd.json_normalize(data[1])\n",
    "df_co2 = df_co2[['countryiso3code', 'date', 'value']]\n",
    "df_co2.columns = ['country_code', 'year', 'co2_emissions']\n",
    "\n",
    "df_gdp = pd.json_normalize(data_gdp[1])\n",
    "df_gdp = df_gdp[['countryiso3code', 'date', 'value']]\n",
    "df_gdp.columns = ['country_code', 'year', 'gdp']"
   ]
  },
  {
   "cell_type": "markdown",
   "id": "037982ff-8fe0-4dca-8b8f-db7f803bd59d",
   "metadata": {},
   "source": [
    "5. Сохранение данных в SQLite:"
   ]
  },
  {
   "cell_type": "code",
   "execution_count": 5,
   "id": "c3d35d3a-4668-4346-9386-1b7a5721d192",
   "metadata": {},
   "outputs": [
    {
     "data": {
      "text/plain": [
       "50"
      ]
     },
     "execution_count": 5,
     "metadata": {},
     "output_type": "execute_result"
    }
   ],
   "source": [
    "conn = sqlite3.connect('world_bank_data.db')\n",
    "\n",
    "df_co2.to_sql('co2_emissions', conn, if_exists='replace', index=False)\n",
    "df_gdp.to_sql('gdp', conn, if_exists='replace', index=False)"
   ]
  },
  {
   "cell_type": "markdown",
   "id": "eb439333-70a0-4540-8036-39ebe93d336f",
   "metadata": {},
   "source": [
    "7. Анализ данных с использованием SQLite: "
   ]
  },
  {
   "cell_type": "code",
   "execution_count": 6,
   "id": "6ae5652f-1233-45c5-84a0-2c2a1390f22b",
   "metadata": {
    "scrolled": true
   },
   "outputs": [
    {
     "name": "stdout",
     "output_type": "stream",
     "text": [
      "   country_code  year  co2_emissions           gdp\n",
      "0           AFE  2020   5.449525e+05  9.290741e+11\n",
      "1           AFE  2019   6.107235e+05  1.006527e+12\n",
      "2           AFE  2018   5.987210e+05  1.012719e+12\n",
      "3           AFE  2017   5.909055e+05  9.401055e+11\n",
      "4           AFE  2016   5.802192e+05  8.298300e+11\n",
      "5           AFE  2015   5.762660e+05  8.992957e+11\n",
      "6           AFE  2014   5.916810e+05  9.796897e+11\n",
      "7           AFE  2013   5.685475e+05  9.633473e+11\n",
      "8           AFE  2012   5.467759e+05  9.526756e+11\n",
      "9           AFE  2011   5.253379e+05  9.454391e+11\n",
      "10          AFE  2010   5.326141e+05  8.494097e+11\n",
      "11          AFW  2020   2.159156e+05  7.871467e+11\n",
      "12          AFW  2019   2.229904e+05  8.239336e+11\n",
      "13          AFW  2018   2.106189e+05  7.681896e+11\n",
      "14          AFW  2017   2.005509e+05  6.857502e+11\n",
      "15          AFW  2016   2.013992e+05  6.921811e+11\n",
      "16          AFW  2015   1.943636e+05  7.693673e+11\n",
      "17          AFW  2014   1.963436e+05  8.945854e+11\n",
      "18          AFW  2013   1.864867e+05  8.341606e+11\n",
      "19          AFW  2012   1.703507e+05  7.377996e+11\n",
      "20          AFW  2011   1.654985e+05  6.822333e+11\n",
      "21          AFW  2010   1.595740e+05  5.986977e+11\n",
      "22          ARB  2020   1.765053e+06  2.576553e+12\n",
      "23          ARB  2019   1.845846e+06  2.898669e+12\n",
      "24          ARB  2018   1.826352e+06  2.865544e+12\n",
      "25          ARB  2017   1.843232e+06  2.571054e+12\n",
      "26          ARB  2016   1.827588e+06  2.499966e+12\n",
      "27          ARB  2015   1.809147e+06  2.544136e+12\n",
      "28          ARB  2014   1.766583e+06  2.905076e+12\n",
      "29          ARB  2013   1.706821e+06  2.857872e+12\n",
      "30          ARB  2012   1.674147e+06  2.793776e+12\n",
      "31          ARB  2011   1.567406e+06  2.559855e+12\n",
      "32          ARB  2010   1.533677e+06  2.154252e+12\n",
      "33          CSS  2020   3.277699e+04  3.137803e+10\n",
      "34          CSS  2019   3.761499e+04  3.762101e+10\n",
      "35          CSS  2018   3.780150e+04  3.622542e+10\n",
      "36          CSS  2017   3.631330e+04  3.492159e+10\n",
      "37          CSS  2016   3.722306e+04  3.345125e+10\n",
      "38          CSS  2015   3.928440e+04  3.453826e+10\n",
      "39          CSS  2014   4.008546e+04  3.346228e+10\n",
      "40          CSS  2013   4.047758e+04  3.239081e+10\n",
      "41          CSS  2012   3.911825e+04  3.205239e+10\n",
      "42          CSS  2011   3.966078e+04  3.034456e+10\n",
      "43          CSS  2010   3.830147e+04  2.971553e+10\n",
      "44          CEB  2020   5.984900e+05  1.665817e+12\n",
      "45          CEB  2019   6.436121e+05  1.674816e+12\n",
      "46          CEB  2018   6.784465e+05  1.649014e+12\n",
      "47          CEB  2017   6.840833e+05  1.461568e+12\n",
      "48          CEB  2016   6.567539e+05  1.316822e+12\n",
      "49          CEB  2015   6.447560e+05  1.293623e+12\n"
     ]
    }
   ],
   "source": [
    "# зависимость между выбросами CO2 и ВВП\n",
    "query = '''\n",
    "SELECT co2.country_code, co2.year, co2.co2_emissions, gdp.gdp\n",
    "FROM co2_emissions AS co2\n",
    "JOIN gdp ON co2.country_code = gdp.country_code AND co2.year = gdp.year\n",
    "'''\n",
    "df_sqlite = pd.read_sql(query, conn)\n",
    "print(df_sqlite) "
   ]
  },
  {
   "cell_type": "code",
   "execution_count": 7,
   "id": "6f67a763-28a7-42e6-8506-2bc2068722d9",
   "metadata": {},
   "outputs": [
    {
     "name": "stdout",
     "output_type": "stream",
     "text": [
      "  country_code     co2_change\n",
      "0          ARB  312169.770000\n",
      "1          CEB   85593.280000\n",
      "2          AFE   85385.610711\n",
      "3          AFW   63416.393000\n",
      "4          CSS    7700.590000\n"
     ]
    }
   ],
   "source": [
    "#страны с наибольшим увеличением выбросов CO2 за определённый период\n",
    "query = '''\n",
    "SELECT country_code, (MAX(co2_emissions) - MIN(co2_emissions)) AS co2_change\n",
    "FROM co2_emissions\n",
    "GROUP BY country_code\n",
    "ORDER BY co2_change DESC\n",
    "LIMIT 10;\n",
    "'''\n",
    "df_sqlite = pd.read_sql(query, conn)\n",
    "print(df_sqlite) "
   ]
  },
  {
   "cell_type": "code",
   "execution_count": 8,
   "id": "7c1169e6-8f63-43d1-be28-8ec01e8174b6",
   "metadata": {},
   "outputs": [
    {
     "name": "stdout",
     "output_type": "stream",
     "text": [
      "    year  co2_emissions           gdp\n",
      "0   2020  544952.503000  9.290741e+11\n",
      "1   2019  610723.500000  1.006527e+12\n",
      "2   2018  598720.957500  1.012719e+12\n",
      "3   2017  590905.482000  9.401055e+11\n",
      "4   2016  580219.242000  8.298300e+11\n",
      "5   2015  576265.992000  8.992957e+11\n",
      "6   2014  591680.972000  9.796897e+11\n",
      "7   2013  568547.519000  9.633473e+11\n",
      "8   2012  546775.865000  9.526756e+11\n",
      "9   2011  525337.889289  9.454391e+11\n",
      "10  2010  532614.140224  8.494097e+11\n"
     ]
    }
   ],
   "source": [
    "# ависимости между выбросами CO2 и ВВП для AFE\n",
    "query = '''\n",
    "SELECT co2.year, co2.co2_emissions, gdp.gdp\n",
    "FROM co2_emissions AS co2\n",
    "JOIN gdp ON co2.country_code = gdp.country_code AND co2.year = gdp.year\n",
    "WHERE co2.country_code = 'AFE';\n",
    "'''\n",
    "df_sqlite = pd.read_sql(query, conn)\n",
    "print(df_sqlite) "
   ]
  },
  {
   "cell_type": "code",
   "execution_count": null,
   "id": "4cca31ae-3dea-435d-98e6-2c6f693b901e",
   "metadata": {},
   "outputs": [],
   "source": []
  }
 ],
 "metadata": {
  "kernelspec": {
   "display_name": "Python 3 (ipykernel)",
   "language": "python",
   "name": "python3"
  },
  "language_info": {
   "codemirror_mode": {
    "name": "ipython",
    "version": 3
   },
   "file_extension": ".py",
   "mimetype": "text/x-python",
   "name": "python",
   "nbconvert_exporter": "python",
   "pygments_lexer": "ipython3",
   "version": "3.12.3"
  }
 },
 "nbformat": 4,
 "nbformat_minor": 5
}
