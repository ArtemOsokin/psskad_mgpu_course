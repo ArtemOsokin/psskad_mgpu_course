{
  "nbformat": 4,
  "nbformat_minor": 0,
  "metadata": {
    "colab": {
      "provenance": [],
      "include_colab_link": true
    },
    "kernelspec": {
      "name": "python3",
      "display_name": "Python 3"
    },
    "language_info": {
      "name": "python"
    }
  },
  "cells": [
    {
      "cell_type": "markdown",
      "metadata": {
        "id": "view-in-github",
        "colab_type": "text"
      },
      "source": [
        "<a href=\"https://colab.research.google.com/github/ArtemOsokin/psskad_mgpu_course/blob/main/PW/PW3/PW_03_Osokin_A_I.ipynb\" target=\"_parent\"><img src=\"https://colab.research.google.com/assets/colab-badge.svg\" alt=\"Open In Colab\"/></a>"
      ]
    },
    {
      "cell_type": "markdown",
      "source": [
        "# Практическая работа 3. Программные средства консолидации данных\n",
        "\n",
        "## Цель работы\n",
        "Освоить практические навыки консолидации данных из различных источников с использованием Python и библиотеки pandas.\n",
        "\n",
        "## Задачи\n",
        "1. Загрузить данные из различных источников (CSV, Excel, JSON).\n",
        "2. Провести предварительную обработку и очистку данных.\n",
        "3. Объединить данные из разных источников.\n",
        "4. Выполнить агрегацию и трансформацию данных.\n",
        "5. Сохранить консолидированные данные в новый файл.\n",
        "\n",
        "## Необходимое программное обеспечение\n",
        "- Python 3.x\n",
        "- Библиотеки: pandas, numpy, matplotlib\n",
        "\n",
        "## Исходные данные\n",
        "- `buyers.csv`: данные о покупателях интернет-магазина (имя, город, покупки).\n",
        "- `orders.xlsx`: данные о заказах (номер заказа, товар, сумма).\n",
        "- `ships.json`: данные о доставке и её стоимости по городам\n",
        "\n",
        "##Задача:\n",
        "объединить данные и рассчитать общую стоимость заказов для\n",
        "каждого клиента с учётом доставки."
      ],
      "metadata": {
        "id": "RGcbZxxOH5EH"
      }
    },
    {
      "cell_type": "markdown",
      "source": [
        "## Ход работы"
      ],
      "metadata": {
        "id": "rrCNKG2ZII1s"
      }
    },
    {
      "cell_type": "markdown",
      "source": [
        "Процесс создания тестовых данных для файлов\n",
        "- `buyers.csv`\n",
        "- `orders.xlsx`\n",
        "- `ships.json`\n"
      ],
      "metadata": {
        "id": "wKifPGN0ILnu"
      }
    },
    {
      "cell_type": "code",
      "execution_count": 1,
      "metadata": {
        "id": "juFehJqiH1ET"
      },
      "outputs": [],
      "source": [
        "import pandas as pd\n",
        "import numpy as np\n",
        "import json\n",
        "from datetime import datetime, timedelta\n",
        "import random\n"
      ]
    },
    {
      "cell_type": "code",
      "source": [
        "# Функция для генерации случайной даты\n",
        "def random_date(start, end):\n",
        "    return start + timedelta(\n",
        "        seconds=random.randint(0, int((end - start).total_seconds()))\n",
        "    )"
      ],
      "metadata": {
        "id": "3MMqaYqIImQ8"
      },
      "execution_count": 2,
      "outputs": []
    },
    {
      "cell_type": "code",
      "source": [
        "# Функция для генерации случайного продукта\n",
        "def random_product():\n",
        "    return random.choice(['Laptop', 'Smartphone', 'Tablet', 'Monitor', 'Keyboard'])"
      ],
      "metadata": {
        "id": "i8mYND0y5Dn_"
      },
      "execution_count": 3,
      "outputs": []
    },
    {
      "cell_type": "markdown",
      "source": [
        "1. Создание ships.json:\n"
      ],
      "metadata": {
        "id": "j87BEfeLJA3p"
      }
    },
    {
      "cell_type": "code",
      "source": [
        "# Генерация данных о доставке\n",
        "cities = ['Москва', 'Санкт-Петербург', 'Казань', 'Самара', 'Сочи', 'Пермь']\n",
        "ships = [\n",
        "    {\n",
        "        'city': city,\n",
        "        'shipping_cost': random.randint(500, 3500)\n",
        "    }\n",
        "    for city in cities\n",
        "]\n",
        "file_name = 'ships.json'\n",
        "\n",
        "# Сохранение данных о продуктах в JSON\n",
        "with open(file_name, 'w', encoding='utf-8') as f:\n",
        "    json.dump(ships, f, ensure_ascii=False, indent=4)\n",
        "\n",
        "print(\"Файл {} создан\".format(file_name))\n"
      ],
      "metadata": {
        "id": "9F5dwllZIqqM",
        "colab": {
          "base_uri": "https://localhost:8080/"
        },
        "outputId": "6dd8da30-2234-42e0-e63c-4692e2c50d0a"
      },
      "execution_count": 4,
      "outputs": [
        {
          "output_type": "stream",
          "name": "stdout",
          "text": [
            "Файл ships.json создан\n"
          ]
        }
      ]
    },
    {
      "cell_type": "markdown",
      "source": [
        "2. Создание buyers_2022.csv:\n"
      ],
      "metadata": {
        "id": "2XlUNgeUJEod"
      }
    },
    {
      "cell_type": "code",
      "source": [
        "# Генерация данных о продажах за 2022 год\n",
        "names = [\n",
        "    'Grace James',\n",
        "    'Cora Christian',\n",
        "    'Sammy Griffith',\n",
        "    'Bo Carr',\n",
        "    'Bart Sanchez',\n",
        "    'Natalia Stokes',\n",
        "    'Kenneth Blankenship',\n",
        "    'Vanessa Berry',\n",
        "    'Marietta Spears',\n",
        "    'Mckinley Rocha'\n",
        "]\n",
        "\n",
        "buyers = [\n",
        "    {\n",
        "        'name': name,\n",
        "        'city': random.choice(cities)\n",
        "    }\n",
        "    for name in names\n",
        "]\n",
        "\n",
        "file_name = 'buyers.csv'\n",
        "\n",
        "df_2022 = pd.DataFrame(buyers)\n",
        "df_2022.to_csv(file_name, index=False)\n",
        "print(\"Файл {} создан\".format(file_name))\n"
      ],
      "metadata": {
        "id": "xO9l1LsCIwOX",
        "colab": {
          "base_uri": "https://localhost:8080/"
        },
        "outputId": "72f064e9-9e57-4678-de23-18a49d22df34"
      },
      "execution_count": 5,
      "outputs": [
        {
          "output_type": "stream",
          "name": "stdout",
          "text": [
            "Файл buyers.csv создан\n"
          ]
        }
      ]
    },
    {
      "cell_type": "markdown",
      "source": [
        "3. Создание sales_2023.xlsx:\n"
      ],
      "metadata": {
        "id": "tqqk2XtSJGzV"
      }
    },
    {
      "cell_type": "code",
      "source": [
        "# Генерация данных о заказах\n",
        "orders = [\n",
        "    {\n",
        "        'buyer_name': random.choice(names),\n",
        "        'order_id': f'O{i:03d}',\n",
        "        'product': random_product(),\n",
        "        'price': round(random.uniform(1000, 10000), 2)\n",
        "    }\n",
        "    for i in range(1000)\n",
        "]\n",
        "\n",
        "file_name = 'orders.xlsx'\n",
        "\n",
        "df_2023 = pd.DataFrame(orders)\n",
        "\n",
        "df_2023.to_excel(file_name, index=False)\n",
        "print(\"Файл {} создан\".format(file_name))\n"
      ],
      "metadata": {
        "id": "zN8ZNgVMIzxG",
        "colab": {
          "base_uri": "https://localhost:8080/"
        },
        "outputId": "8f4d78b1-f157-4580-e755-d8590d115a7a"
      },
      "execution_count": 6,
      "outputs": [
        {
          "output_type": "stream",
          "name": "stdout",
          "text": [
            "Файл orders.xlsx создан\n"
          ]
        }
      ]
    },
    {
      "cell_type": "code",
      "source": [
        "ls"
      ],
      "metadata": {
        "id": "7z6rGsrVI5ps",
        "colab": {
          "base_uri": "https://localhost:8080/"
        },
        "outputId": "499c40bd-0bb1-4716-e973-b09956869cee"
      },
      "execution_count": 7,
      "outputs": [
        {
          "output_type": "stream",
          "name": "stdout",
          "text": [
            "buyers.csv   sales_by_category.png  ships.json\n",
            "orders.xlsx  \u001b[0m\u001b[01;34msample_data\u001b[0m/           total_sales_by_client_data.csv\n"
          ]
        }
      ]
    },
    {
      "cell_type": "markdown",
      "source": [
        "Особенности сгенерированных данных:\n",
        "- Данные имеют реалистичную структуру и вариативность.\n",
        "- В данных присутствуют различные типы полей: строковые (категории, ID), числовые (цены, количество)."
      ],
      "metadata": {
        "id": "WMqOi45ZJKPW"
      }
    },
    {
      "cell_type": "markdown",
      "source": [
        "### Шаг 1: Подготовка рабочей среды\n",
        "\n",
        "1. Создайте новый Python-скрипт `data_consolidation.py`.\n",
        "2. Импортируйте необходимые библиотеки:\n",
        "\n"
      ],
      "metadata": {
        "id": "TBG7soLzJclT"
      }
    },
    {
      "cell_type": "code",
      "source": [
        "import pandas as pd\n",
        "import numpy as np\n",
        "import matplotlib.pyplot as plt"
      ],
      "metadata": {
        "id": "tTq0rcZtJNqG"
      },
      "execution_count": 8,
      "outputs": []
    },
    {
      "cell_type": "markdown",
      "source": [
        "### Шаг 2: Загрузка данных\n",
        "1. Загрузите данные из CSV-файла:"
      ],
      "metadata": {
        "id": "dqlsCfijJoMl"
      }
    },
    {
      "cell_type": "code",
      "source": [
        "buyers_df = pd.read_csv('buyers.csv')\n",
        "print(\"Данные о покупателях:\")\n",
        "print(buyers_df.head())"
      ],
      "metadata": {
        "id": "1tdaCp5GJo95",
        "colab": {
          "base_uri": "https://localhost:8080/"
        },
        "outputId": "078b1001-fa0e-4461-edac-61941a3da053"
      },
      "execution_count": 9,
      "outputs": [
        {
          "output_type": "stream",
          "name": "stdout",
          "text": [
            "Данные о покупателях:\n",
            "             name             city\n",
            "0     Grace James  Санкт-Петербург\n",
            "1  Cora Christian           Самара\n",
            "2  Sammy Griffith             Сочи\n",
            "3         Bo Carr           Москва\n",
            "4    Bart Sanchez           Самара\n"
          ]
        }
      ]
    },
    {
      "cell_type": "markdown",
      "source": [
        "2. Загрузите данные из Excel-файла:"
      ],
      "metadata": {
        "id": "Ly23psrvJxBH"
      }
    },
    {
      "cell_type": "code",
      "source": [
        "orders_df = pd.read_excel('orders.xlsx')\n",
        "print(\"Данные о покупателях:\")\n",
        "print(orders_df.head())"
      ],
      "metadata": {
        "id": "D64JfCtrJz3O",
        "colab": {
          "base_uri": "https://localhost:8080/"
        },
        "outputId": "ec211530-3e9c-4057-fae6-c6d776832ab4"
      },
      "execution_count": 10,
      "outputs": [
        {
          "output_type": "stream",
          "name": "stdout",
          "text": [
            "Данные о покупателях:\n",
            "            buyer_name order_id  product    price\n",
            "0         Bart Sanchez     O000   Laptop  1960.96\n",
            "1      Marietta Spears     O001   Tablet  7349.48\n",
            "2  Kenneth Blankenship     O002  Monitor  3753.11\n",
            "3       Sammy Griffith     O003   Laptop  6386.92\n",
            "4      Marietta Spears     O004  Monitor  4025.35\n"
          ]
        }
      ]
    },
    {
      "cell_type": "markdown",
      "source": [
        "3. Загрузите данные из JSON-файла:"
      ],
      "metadata": {
        "id": "50Rl1R2IJ3MI"
      }
    },
    {
      "cell_type": "code",
      "source": [
        "df_ships = pd.read_json('ships.json')\n",
        "print(\"\\nДанные о доставке:\")\n",
        "print(df_ships.head())"
      ],
      "metadata": {
        "id": "IuuD1-YXJ49W",
        "colab": {
          "base_uri": "https://localhost:8080/"
        },
        "outputId": "d5fc2214-94cd-49be-b9dc-e2977160b483"
      },
      "execution_count": 11,
      "outputs": [
        {
          "output_type": "stream",
          "name": "stdout",
          "text": [
            "\n",
            "Данные о доставке:\n",
            "              city  shipping_cost\n",
            "0           Москва           1406\n",
            "1  Санкт-Петербург           1226\n",
            "2           Казань            830\n",
            "3           Самара           2011\n",
            "4             Сочи            766\n"
          ]
        }
      ]
    },
    {
      "cell_type": "markdown",
      "source": [
        "### Шаг 3: Предварительная обработка и очистка данных\n",
        "1. Проверьте наличие пропущенных значений:"
      ],
      "metadata": {
        "id": "fKqey5q6J9op"
      }
    },
    {
      "cell_type": "code",
      "source": [
        "print(\"\\nПропущенные значения:\")\n",
        "print(buyers_df.isnull().sum())\n",
        "print(orders_df.isnull().sum())\n",
        "print(df_ships.isnull().sum())"
      ],
      "metadata": {
        "id": "glHIeyB9J-aJ",
        "colab": {
          "base_uri": "https://localhost:8080/"
        },
        "outputId": "ab71ccce-e497-4fdd-d4e9-3e2049496fdc"
      },
      "execution_count": 12,
      "outputs": [
        {
          "output_type": "stream",
          "name": "stdout",
          "text": [
            "\n",
            "Пропущенные значения:\n",
            "name    0\n",
            "city    0\n",
            "dtype: int64\n",
            "buyer_name    0\n",
            "order_id      0\n",
            "product       0\n",
            "price         0\n",
            "dtype: int64\n",
            "city             0\n",
            "shipping_cost    0\n",
            "dtype: int64\n"
          ]
        }
      ]
    },
    {
      "cell_type": "markdown",
      "source": [
        "### Шаг 4: Объединение данных\n",
        "1. Объедините данные о продажах за 2022 и 2023 годы:"
      ],
      "metadata": {
        "id": "FHAyqq9TKPs_"
      }
    },
    {
      "cell_type": "code",
      "source": [
        "buyers_with_shipping = pd.merge(buyers_df, df_ships, how='left', on='city')\n",
        "print(\"\\nОбъединенные данные о доставке и покупателях:\")\n",
        "print(buyers_with_shipping.head())"
      ],
      "metadata": {
        "id": "SqwD7r4aKRj0",
        "colab": {
          "base_uri": "https://localhost:8080/"
        },
        "outputId": "1ac27d57-719c-4d06-e2d4-a80da4c4db01"
      },
      "execution_count": 13,
      "outputs": [
        {
          "output_type": "stream",
          "name": "stdout",
          "text": [
            "\n",
            "Объединенные данные о доставке и покупателях:\n",
            "             name             city  shipping_cost\n",
            "0     Grace James  Санкт-Петербург           1226\n",
            "1  Cora Christian           Самара           2011\n",
            "2  Sammy Griffith             Сочи            766\n",
            "3         Bo Carr           Москва           1406\n",
            "4    Bart Sanchez           Самара           2011\n"
          ]
        }
      ]
    },
    {
      "cell_type": "markdown",
      "source": [
        "2. Добавьте информацию о заказах к данным о доставке и покупателях:"
      ],
      "metadata": {
        "id": "vVouyvVdKW2v"
      }
    },
    {
      "cell_type": "code",
      "source": [
        "final_df = pd.merge(buyers_with_shipping, orders_df, how='left', left_on='name', right_on='buyer_name')\n",
        "print(\"\\nКонсолидированные данные:\")\n",
        "print(final_df.head())"
      ],
      "metadata": {
        "id": "HYHN2c-oKYV1",
        "colab": {
          "base_uri": "https://localhost:8080/"
        },
        "outputId": "2c0d2b61-b6bd-45f7-f903-21747ca871a3"
      },
      "execution_count": 14,
      "outputs": [
        {
          "output_type": "stream",
          "name": "stdout",
          "text": [
            "\n",
            "Консолидированные данные:\n",
            "          name             city  shipping_cost   buyer_name order_id  \\\n",
            "0  Grace James  Санкт-Петербург           1226  Grace James     O012   \n",
            "1  Grace James  Санкт-Петербург           1226  Grace James     O018   \n",
            "2  Grace James  Санкт-Петербург           1226  Grace James     O030   \n",
            "3  Grace James  Санкт-Петербург           1226  Grace James     O032   \n",
            "4  Grace James  Санкт-Петербург           1226  Grace James     O046   \n",
            "\n",
            "      product    price  \n",
            "0      Laptop  5282.62  \n",
            "1    Keyboard  2674.06  \n",
            "2    Keyboard  3708.31  \n",
            "3      Tablet  8848.81  \n",
            "4  Smartphone  5292.14  \n"
          ]
        }
      ]
    },
    {
      "cell_type": "markdown",
      "source": [
        "### Шаг 5: Агрегация и трансформация данных\n",
        "1. Рассчитайте общую стоимость заказа с учетом стоимости доставки:"
      ],
      "metadata": {
        "id": "jYpMB013KbEx"
      }
    },
    {
      "cell_type": "code",
      "source": [
        "final_df['Total_Cost'] = final_df['price'] + final_df['shipping_cost']\n",
        "print(final_df.head())"
      ],
      "metadata": {
        "id": "POzC1z2zKcmt",
        "colab": {
          "base_uri": "https://localhost:8080/"
        },
        "outputId": "5427cb3c-1274-4c76-900c-0d2d18accbe7"
      },
      "execution_count": 15,
      "outputs": [
        {
          "output_type": "stream",
          "name": "stdout",
          "text": [
            "          name             city  shipping_cost   buyer_name order_id  \\\n",
            "0  Grace James  Санкт-Петербург           1226  Grace James     O012   \n",
            "1  Grace James  Санкт-Петербург           1226  Grace James     O018   \n",
            "2  Grace James  Санкт-Петербург           1226  Grace James     O030   \n",
            "3  Grace James  Санкт-Петербург           1226  Grace James     O032   \n",
            "4  Grace James  Санкт-Петербург           1226  Grace James     O046   \n",
            "\n",
            "      product    price  Total_Cost  \n",
            "0      Laptop  5282.62     6508.62  \n",
            "1    Keyboard  2674.06     3900.06  \n",
            "2    Keyboard  3708.31     4934.31  \n",
            "3      Tablet  8848.81    10074.81  \n",
            "4  Smartphone  5292.14     6518.14  \n"
          ]
        }
      ]
    },
    {
      "cell_type": "markdown",
      "source": [
        "2. Рассчитайте общую стоимость всех заказов с учетом стоимости доставки для каждого клиента:"
      ],
      "metadata": {
        "id": "4EPtLqJbKj9R"
      }
    },
    {
      "cell_type": "code",
      "source": [
        "df_total = final_df.groupby('name')['Total_Cost'].sum()\n",
        "df_total"
      ],
      "metadata": {
        "id": "aecPAqZJKkif",
        "colab": {
          "base_uri": "https://localhost:8080/",
          "height": 424
        },
        "outputId": "1e3d2e0c-fef7-495a-9c23-bb919fd9c1b9"
      },
      "execution_count": 16,
      "outputs": [
        {
          "output_type": "execute_result",
          "data": {
            "text/plain": [
              "name\n",
              "Bart Sanchez           584543.32\n",
              "Bo Carr                690758.33\n",
              "Cora Christian         672851.28\n",
              "Grace James            635034.69\n",
              "Kenneth Blankenship    868606.68\n",
              "Marietta Spears        837559.66\n",
              "Mckinley Rocha         640613.84\n",
              "Natalia Stokes         712148.84\n",
              "Sammy Griffith         725579.35\n",
              "Vanessa Berry          717139.07\n",
              "Name: Total_Cost, dtype: float64"
            ],
            "text/html": [
              "<div>\n",
              "<style scoped>\n",
              "    .dataframe tbody tr th:only-of-type {\n",
              "        vertical-align: middle;\n",
              "    }\n",
              "\n",
              "    .dataframe tbody tr th {\n",
              "        vertical-align: top;\n",
              "    }\n",
              "\n",
              "    .dataframe thead th {\n",
              "        text-align: right;\n",
              "    }\n",
              "</style>\n",
              "<table border=\"1\" class=\"dataframe\">\n",
              "  <thead>\n",
              "    <tr style=\"text-align: right;\">\n",
              "      <th></th>\n",
              "      <th>Total_Cost</th>\n",
              "    </tr>\n",
              "    <tr>\n",
              "      <th>name</th>\n",
              "      <th></th>\n",
              "    </tr>\n",
              "  </thead>\n",
              "  <tbody>\n",
              "    <tr>\n",
              "      <th>Bart Sanchez</th>\n",
              "      <td>584543.32</td>\n",
              "    </tr>\n",
              "    <tr>\n",
              "      <th>Bo Carr</th>\n",
              "      <td>690758.33</td>\n",
              "    </tr>\n",
              "    <tr>\n",
              "      <th>Cora Christian</th>\n",
              "      <td>672851.28</td>\n",
              "    </tr>\n",
              "    <tr>\n",
              "      <th>Grace James</th>\n",
              "      <td>635034.69</td>\n",
              "    </tr>\n",
              "    <tr>\n",
              "      <th>Kenneth Blankenship</th>\n",
              "      <td>868606.68</td>\n",
              "    </tr>\n",
              "    <tr>\n",
              "      <th>Marietta Spears</th>\n",
              "      <td>837559.66</td>\n",
              "    </tr>\n",
              "    <tr>\n",
              "      <th>Mckinley Rocha</th>\n",
              "      <td>640613.84</td>\n",
              "    </tr>\n",
              "    <tr>\n",
              "      <th>Natalia Stokes</th>\n",
              "      <td>712148.84</td>\n",
              "    </tr>\n",
              "    <tr>\n",
              "      <th>Sammy Griffith</th>\n",
              "      <td>725579.35</td>\n",
              "    </tr>\n",
              "    <tr>\n",
              "      <th>Vanessa Berry</th>\n",
              "      <td>717139.07</td>\n",
              "    </tr>\n",
              "  </tbody>\n",
              "</table>\n",
              "</div><br><label><b>dtype:</b> float64</label>"
            ]
          },
          "metadata": {},
          "execution_count": 16
        }
      ]
    },
    {
      "cell_type": "markdown",
      "source": [
        "### Шаг 6: Визуализация данных\n",
        "1. Создайте график продаж по категориям:"
      ],
      "metadata": {
        "id": "9FoMjqupKsIf"
      }
    },
    {
      "cell_type": "code",
      "source": [
        "plt.figure(figsize=(12, 6))\n",
        "df_total.plot(kind='bar')\n",
        "plt.title('Общая сумма продаж по клиентам')\n",
        "plt.xlabel('Клиент')\n",
        "plt.ylabel('Сумма')\n",
        "plt.tight_layout()\n",
        "plt.savefig('sales_by_category.png')\n"
      ],
      "metadata": {
        "id": "XY4aSq7MKsm0",
        "colab": {
          "base_uri": "https://localhost:8080/",
          "height": 607
        },
        "outputId": "1795f0c7-756b-4a30-a351-ace7c7f2bbfc"
      },
      "execution_count": 17,
      "outputs": [
        {
          "output_type": "display_data",
          "data": {
            "text/plain": [
              "<Figure size 1200x600 with 1 Axes>"
            ],
            "image/png": "[encoded data removed]"
          },
          "metadata": {}
        }
      ]
    },
    {
      "cell_type": "markdown",
      "source": [
        "### Шаг 7: Сохранение консолидированных данных\n",
        "Сохраните консолидированные данные в CSV-файл:"
      ],
      "metadata": {
        "id": "UuE37VJ2LA0O"
      }
    },
    {
      "cell_type": "code",
      "source": [
        "file_name = 'total_sales_by_client_data.csv'\n",
        "\n",
        "df_total.to_csv(file_name)\n",
        "print(f\"\\nКонсолидированные данные сохранены в файл '{file_name}'\")"
      ],
      "metadata": {
        "id": "58lohakrLDUW",
        "colab": {
          "base_uri": "https://localhost:8080/"
        },
        "outputId": "24f75d03-9b4a-4006-ccb0-0ab22e8f1880"
      },
      "execution_count": 18,
      "outputs": [
        {
          "output_type": "stream",
          "name": "stdout",
          "text": [
            "\n",
            "Консолидированные данные сохранены в файл 'total_sales_by_client_data.csv'\n"
          ]
        }
      ]
    },
    {
      "cell_type": "code",
      "source": [
        "from google.colab import files\n",
        "\n",
        "# Скачиваем CSV файл\n",
        "files.download(file_name)"
      ],
      "metadata": {
        "id": "tpJ5Y-7RLWp6",
        "colab": {
          "base_uri": "https://localhost:8080/",
          "height": 17
        },
        "outputId": "90ce66dc-3ec4-4d11-a57f-22c8c05faad5"
      },
      "execution_count": 19,
      "outputs": [
        {
          "output_type": "display_data",
          "data": {
            "text/plain": [
              "<IPython.core.display.Javascript object>"
            ],
            "application/javascript": [
              "\n",
              "    async function download(id, filename, size) {\n",
              "      if (!google.colab.kernel.accessAllowed) {\n",
              "        return;\n",
              "      }\n",
              "      const div = document.createElement('div');\n",
              "      const label = document.createElement('label');\n",
              "      label.textContent = `Downloading \"${filename}\": `;\n",
              "      div.appendChild(label);\n",
              "      const progress = document.createElement('progress');\n",
              "      progress.max = size;\n",
              "      div.appendChild(progress);\n",
              "      document.body.appendChild(div);\n",
              "\n",
              "      const buffers = [];\n",
              "      let downloaded = 0;\n",
              "\n",
              "      const channel = await google.colab.kernel.comms.open(id);\n",
              "      // Send a message to notify the kernel that we're ready.\n",
              "      channel.send({})\n",
              "\n",
              "      for await (const message of channel.messages) {\n",
              "        // Send a message to notify the kernel that we're ready.\n",
              "        channel.send({})\n",
              "        if (message.buffers) {\n",
              "          for (const buffer of message.buffers) {\n",
              "            buffers.push(buffer);\n",
              "            downloaded += buffer.byteLength;\n",
              "            progress.value = downloaded;\n",
              "          }\n",
              "        }\n",
              "      }\n",
              "      const blob = new Blob(buffers, {type: 'application/binary'});\n",
              "      const a = document.createElement('a');\n",
              "      a.href = window.URL.createObjectURL(blob);\n",
              "      a.download = filename;\n",
              "      div.appendChild(a);\n",
              "      a.click();\n",
              "      div.remove();\n",
              "    }\n",
              "  "
            ]
          },
          "metadata": {}
        },
        {
          "output_type": "display_data",
          "data": {
            "text/plain": [
              "<IPython.core.display.Javascript object>"
            ],
            "application/javascript": [
              "download(\"download_0b938856-be2c-4cd0-9fc5-412cffd1864a\", \"total_sales_by_client_data.csv\", 259)"
            ]
          },
          "metadata": {}
        }
      ]
    }
  ]
}