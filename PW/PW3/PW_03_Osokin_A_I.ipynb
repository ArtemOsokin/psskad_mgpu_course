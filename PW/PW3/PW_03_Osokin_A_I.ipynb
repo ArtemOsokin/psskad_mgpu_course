{
  "nbformat": 4,
  "nbformat_minor": 0,
  "metadata": {
    "colab": {
      "provenance": [],
      "include_colab_link": true
    },
    "kernelspec": {
      "name": "python3",
      "display_name": "Python 3"
    },
    "language_info": {
      "name": "python"
    }
  },
  "cells": [
    {
      "cell_type": "markdown",
      "metadata": {
        "id": "view-in-github",
        "colab_type": "text"
      },
      "source": [
        "<a href=\"https://colab.research.google.com/github/ArtemOsokin/psskad_mgpu_course/blob/main/PW/PW3/PW_03_Osokin_A_I.ipynb\" target=\"_parent\"><img src=\"https://colab.research.google.com/assets/colab-badge.svg\" alt=\"Open In Colab\"/></a>"
      ]
    },
    {
      "cell_type": "markdown",
      "source": [
        "# Практическая работа 3. Программные средства консолидации данных\n",
        "\n",
        "## Цель работы\n",
        "Освоить практические навыки консолидации данных из различных источников с использованием Python и библиотеки pandas.\n",
        "\n",
        "## Задачи\n",
        "1. Загрузить данные из различных источников (CSV, Excel, JSON).\n",
        "2. Провести предварительную обработку и очистку данных.\n",
        "3. Объединить данные из разных источников.\n",
        "4. Выполнить агрегацию и трансформацию данных.\n",
        "5. Сохранить консолидированные данные в новый файл.\n",
        "\n",
        "## Необходимое программное обеспечение\n",
        "- Python 3.x\n",
        "- Библиотеки: pandas, numpy, matplotlib\n",
        "\n",
        "## Исходные данные\n",
        "- `buyers.csv`: данные о покупателях интернет-магазина (имя, город, покупки).\n",
        "- `orders.xlsx`: данные о заказах (номер заказа, товар, сумма).\n",
        "- `ships.json`: данные о доставке и её стоимости по городам\n",
        "\n",
        "##Задача:\n",
        "объединить данные и рассчитать общую стоимость заказов для\n",
        "каждого клиента с учётом доставки."
      ],
      "metadata": {
        "id": "RGcbZxxOH5EH"
      }
    },
    {
      "cell_type": "markdown",
      "source": [
        "## Ход работы"
      ],
      "metadata": {
        "id": "rrCNKG2ZII1s"
      }
    },
    {
      "cell_type": "markdown",
      "source": [
        "Процесс создания тестовых данных для файлов\n",
        "- `buyers.csv`\n",
        "- `orders.xlsx`\n",
        "- `ships.json`\n"
      ],
      "metadata": {
        "id": "wKifPGN0ILnu"
      }
    },
    {
      "cell_type": "code",
      "execution_count": 1,
      "metadata": {
        "id": "juFehJqiH1ET"
      },
      "outputs": [],
      "source": [
        "import pandas as pd\n",
        "import numpy as np\n",
        "import json\n",
        "from datetime import datetime, timedelta\n",
        "import random\n"
      ]
    },
    {
      "cell_type": "code",
      "source": [
        "# Функция для генерации случайной даты\n",
        "def random_date(start, end):\n",
        "    return start + timedelta(\n",
        "        seconds=random.randint(0, int((end - start).total_seconds()))\n",
        "    )"
      ],
      "metadata": {
        "id": "3MMqaYqIImQ8"
      },
      "execution_count": 2,
      "outputs": []
    },
    {
      "cell_type": "code",
      "source": [
        "# Функция для генерации случайного продукта\n",
        "def random_product():\n",
        "    return random.choice(['Laptop', 'Smartphone', 'Tablet', 'Monitor', 'Keyboard'])"
      ],
      "metadata": {
        "id": "i8mYND0y5Dn_"
      },
      "execution_count": 3,
      "outputs": []
    },
    {
      "cell_type": "markdown",
      "source": [
        "1. Создание ships.json:\n"
      ],
      "metadata": {
        "id": "j87BEfeLJA3p"
      }
    },
    {
      "cell_type": "code",
      "source": [
        "# Генерация данных о доставке\n",
        "cities = ['Москва', 'Санкт-Петербург', 'Казань', 'Самара', 'Сочи', 'Пермь']\n",
        "ships = [\n",
        "    {\n",
        "        'city': city,\n",
        "        'shipping_cost': random.randint(500, 3500)\n",
        "    }\n",
        "    for city in cities\n",
        "]\n",
        "file_name = 'ships.json'\n",
        "\n",
        "# Сохранение данных о продуктах в JSON\n",
        "with open(file_name, 'w', encoding='utf-8') as f:\n",
        "    json.dump(ships, f, ensure_ascii=False, indent=4)\n",
        "\n",
        "print(\"Файл {} создан\".format(file_name))\n"
      ],
      "metadata": {
        "id": "9F5dwllZIqqM",
        "colab": {
          "base_uri": "https://localhost:8080/"
        },
        "outputId": "8f6bfc39-ebfc-4442-f099-459f2b9653f2"
      },
      "execution_count": 4,
      "outputs": [
        {
          "output_type": "stream",
          "name": "stdout",
          "text": [
            "Файл ships.json создан\n"
          ]
        }
      ]
    },
    {
      "cell_type": "markdown",
      "source": [
        "2. Создание buyers_2022.csv:\n"
      ],
      "metadata": {
        "id": "2XlUNgeUJEod"
      }
    },
    {
      "cell_type": "code",
      "source": [
        "# Генерация данных о продажах за 2022 год\n",
        "names = [\n",
        "    'Grace James',\n",
        "    'Cora Christian',\n",
        "    'Sammy Griffith',\n",
        "    'Bo Carr',\n",
        "    'Bart Sanchez',\n",
        "    'Natalia Stokes',\n",
        "    'Kenneth Blankenship',\n",
        "    'Vanessa Berry',\n",
        "    'Marietta Spears',\n",
        "    'Mckinley Rocha'\n",
        "]\n",
        "\n",
        "buyers = [\n",
        "    {\n",
        "        'name': name,\n",
        "        'city': random.choice(cities)\n",
        "    }\n",
        "    for name in names\n",
        "]\n",
        "\n",
        "file_name = 'buyers.csv'\n",
        "\n",
        "df_2022 = pd.DataFrame(buyers)\n",
        "df_2022.to_csv(file_name, index=False)\n",
        "print(\"Файл {} создан\".format(file_name))\n"
      ],
      "metadata": {
        "id": "xO9l1LsCIwOX",
        "colab": {
          "base_uri": "https://localhost:8080/"
        },
        "outputId": "58b159f6-35d3-4a72-adac-fbc7a1c559a0"
      },
      "execution_count": 5,
      "outputs": [
        {
          "output_type": "stream",
          "name": "stdout",
          "text": [
            "Файл buyers.csv создан\n"
          ]
        }
      ]
    },
    {
      "cell_type": "markdown",
      "source": [
        "3. Создание sales_2023.xlsx:\n"
      ],
      "metadata": {
        "id": "tqqk2XtSJGzV"
      }
    },
    {
      "cell_type": "code",
      "source": [
        "# Генерация данных о заказах\n",
        "orders = [\n",
        "    {\n",
        "        'buyer_name': random.choice(names),\n",
        "        'order_id': f'O{i:03d}',\n",
        "        'product': random_product(),\n",
        "        'price': round(random.uniform(1000, 10000), 2)\n",
        "    }\n",
        "    for i in range(1000)\n",
        "]\n",
        "\n",
        "file_name = 'orders.xlsx'\n",
        "\n",
        "df_2023 = pd.DataFrame(orders)\n",
        "\n",
        "df_2023.to_excel(file_name, index=False)\n",
        "print(\"Файл {} создан\".format(file_name))\n"
      ],
      "metadata": {
        "id": "zN8ZNgVMIzxG",
        "colab": {
          "base_uri": "https://localhost:8080/"
        },
        "outputId": "4f529455-a26d-4cc6-cc49-95e2e95da405"
      },
      "execution_count": 6,
      "outputs": [
        {
          "output_type": "stream",
          "name": "stdout",
          "text": [
            "Файл orders.xlsx создан\n"
          ]
        }
      ]
    },
    {
      "cell_type": "code",
      "source": [
        "ls"
      ],
      "metadata": {
        "id": "7z6rGsrVI5ps",
        "colab": {
          "base_uri": "https://localhost:8080/"
        },
        "outputId": "654e8a33-9be2-4189-8f5f-ba7bd8b149ab"
      },
      "execution_count": 7,
      "outputs": [
        {
          "output_type": "stream",
          "name": "stdout",
          "text": [
            "buyers.csv   sales_by_category.png  ships.json\n",
            "orders.xlsx  \u001b[0m\u001b[01;34msample_data\u001b[0m/           total_sales_by_client_data.csv\n"
          ]
        }
      ]
    },
    {
      "cell_type": "markdown",
      "source": [
        "Особенности сгенерированных данных:\n",
        "- Данные имеют реалистичную структуру и вариативность.\n",
        "- В данных присутствуют различные типы полей: строковые (категории, ID), числовые (цены, количество)."
      ],
      "metadata": {
        "id": "WMqOi45ZJKPW"
      }
    },
    {
      "cell_type": "markdown",
      "source": [
        "### Шаг 1: Подготовка рабочей среды\n",
        "\n",
        "1. Создайте новый Python-скрипт `data_consolidation.py`.\n",
        "2. Импортируйте необходимые библиотеки:\n",
        "\n"
      ],
      "metadata": {
        "id": "TBG7soLzJclT"
      }
    },
    {
      "cell_type": "code",
      "source": [
        "import pandas as pd\n",
        "import numpy as np\n",
        "import matplotlib.pyplot as plt"
      ],
      "metadata": {
        "id": "tTq0rcZtJNqG"
      },
      "execution_count": 8,
      "outputs": []
    },
    {
      "cell_type": "markdown",
      "source": [
        "### Шаг 2: Загрузка данных\n",
        "1. Загрузите данные из CSV-файла:"
      ],
      "metadata": {
        "id": "dqlsCfijJoMl"
      }
    },
    {
      "cell_type": "code",
      "source": [
        "buyers_df = pd.read_csv('buyers.csv')\n",
        "print(\"Данные о покупателях:\")\n",
        "print(buyers_df.head())"
      ],
      "metadata": {
        "id": "1tdaCp5GJo95",
        "colab": {
          "base_uri": "https://localhost:8080/"
        },
        "outputId": "798caa4a-4479-496b-c4a8-182807be4df9"
      },
      "execution_count": 9,
      "outputs": [
        {
          "output_type": "stream",
          "name": "stdout",
          "text": [
            "Данные о покупателях:\n",
            "             name    city\n",
            "0     Grace James    Сочи\n",
            "1  Cora Christian  Казань\n",
            "2  Sammy Griffith   Пермь\n",
            "3         Bo Carr    Сочи\n",
            "4    Bart Sanchez  Москва\n"
          ]
        }
      ]
    },
    {
      "cell_type": "markdown",
      "source": [
        "2. Загрузите данные из Excel-файла:"
      ],
      "metadata": {
        "id": "Ly23psrvJxBH"
      }
    },
    {
      "cell_type": "code",
      "source": [
        "orders_df = pd.read_excel('orders.xlsx')\n",
        "print(\"Данные о покупателях:\")\n",
        "print(orders_df.head())"
      ],
      "metadata": {
        "id": "D64JfCtrJz3O",
        "colab": {
          "base_uri": "https://localhost:8080/"
        },
        "outputId": "25fbc270-77c5-47e9-836b-bd5df178ed6e"
      },
      "execution_count": 10,
      "outputs": [
        {
          "output_type": "stream",
          "name": "stdout",
          "text": [
            "Данные о покупателях:\n",
            "            buyer_name order_id     product    price\n",
            "0       Sammy Griffith     O000    Keyboard  4184.60\n",
            "1       Cora Christian     O001  Smartphone  4947.35\n",
            "2  Kenneth Blankenship     O002     Monitor  3293.85\n",
            "3  Kenneth Blankenship     O003     Monitor  2816.88\n",
            "4       Cora Christian     O004     Monitor  4541.30\n"
          ]
        }
      ]
    },
    {
      "cell_type": "markdown",
      "source": [
        "3. Загрузите данные из JSON-файла:"
      ],
      "metadata": {
        "id": "50Rl1R2IJ3MI"
      }
    },
    {
      "cell_type": "code",
      "source": [
        "df_ships = pd.read_json('ships.json')\n",
        "print(\"\\nДанные о доставке:\")\n",
        "print(df_ships.head())"
      ],
      "metadata": {
        "id": "IuuD1-YXJ49W",
        "colab": {
          "base_uri": "https://localhost:8080/"
        },
        "outputId": "f8839a07-ad09-4cfe-d7d6-12d0601a146c"
      },
      "execution_count": 11,
      "outputs": [
        {
          "output_type": "stream",
          "name": "stdout",
          "text": [
            "\n",
            "Данные о доставке:\n",
            "              city  shipping_cost\n",
            "0           Москва           2157\n",
            "1  Санкт-Петербург           3262\n",
            "2           Казань            732\n",
            "3           Самара           1184\n",
            "4             Сочи           3165\n"
          ]
        }
      ]
    },
    {
      "cell_type": "markdown",
      "source": [
        "### Шаг 3: Предварительная обработка и очистка данных\n",
        "1. Проверьте наличие пропущенных значений:"
      ],
      "metadata": {
        "id": "fKqey5q6J9op"
      }
    },
    {
      "cell_type": "code",
      "source": [
        "print(\"\\nПропущенные значения:\")\n",
        "print(buyers_df.isnull().sum())\n",
        "print(orders_df.isnull().sum())\n",
        "print(df_ships.isnull().sum())"
      ],
      "metadata": {
        "id": "glHIeyB9J-aJ",
        "colab": {
          "base_uri": "https://localhost:8080/"
        },
        "outputId": "86040dcb-42fb-404d-bb28-59c62b5c232a"
      },
      "execution_count": 12,
      "outputs": [
        {
          "output_type": "stream",
          "name": "stdout",
          "text": [
            "\n",
            "Пропущенные значения:\n",
            "name    0\n",
            "city    0\n",
            "dtype: int64\n",
            "buyer_name    0\n",
            "order_id      0\n",
            "product       0\n",
            "price         0\n",
            "dtype: int64\n",
            "city             0\n",
            "shipping_cost    0\n",
            "dtype: int64\n"
          ]
        }
      ]
    },
    {
      "cell_type": "markdown",
      "source": [
        "### Шаг 4: Объединение данных\n",
        "1. Объедините данные о продажах за 2022 и 2023 годы:"
      ],
      "metadata": {
        "id": "FHAyqq9TKPs_"
      }
    },
    {
      "cell_type": "code",
      "source": [
        "buyers_with_shipping = pd.merge(buyers_df, df_ships, how='left', on='city')\n",
        "print(\"\\nОбъединенные данные о доставке и покупателях:\")\n",
        "print(buyers_with_shipping.head())"
      ],
      "metadata": {
        "id": "SqwD7r4aKRj0",
        "colab": {
          "base_uri": "https://localhost:8080/"
        },
        "outputId": "bd508b09-0443-4bf3-e60c-add2d3636fb3"
      },
      "execution_count": 13,
      "outputs": [
        {
          "output_type": "stream",
          "name": "stdout",
          "text": [
            "\n",
            "Объединенные данные о доставке и покупателях:\n",
            "             name    city  shipping_cost\n",
            "0     Grace James    Сочи           3165\n",
            "1  Cora Christian  Казань            732\n",
            "2  Sammy Griffith   Пермь           2971\n",
            "3         Bo Carr    Сочи           3165\n",
            "4    Bart Sanchez  Москва           2157\n"
          ]
        }
      ]
    },
    {
      "cell_type": "markdown",
      "source": [
        "2. Добавьте информацию о заказах к данным о доставке и покупателях:"
      ],
      "metadata": {
        "id": "vVouyvVdKW2v"
      }
    },
    {
      "cell_type": "code",
      "source": [
        "final_df = pd.merge(buyers_with_shipping, orders_df, how='left', left_on='name', right_on='buyer_name')\n",
        "print(\"\\nКонсолидированные данные:\")\n",
        "print(final_df.head())"
      ],
      "metadata": {
        "id": "HYHN2c-oKYV1",
        "colab": {
          "base_uri": "https://localhost:8080/"
        },
        "outputId": "3a5dc7dd-6d8b-41ac-c5c8-205b1460cb76"
      },
      "execution_count": 14,
      "outputs": [
        {
          "output_type": "stream",
          "name": "stdout",
          "text": [
            "\n",
            "Консолидированные данные:\n",
            "          name  city  shipping_cost   buyer_name order_id     product    price\n",
            "0  Grace James  Сочи           3165  Grace James     O006      Tablet  9064.26\n",
            "1  Grace James  Сочи           3165  Grace James     O016     Monitor  4280.71\n",
            "2  Grace James  Сочи           3165  Grace James     O033    Keyboard  8922.24\n",
            "3  Grace James  Сочи           3165  Grace James     O037     Monitor  8597.30\n",
            "4  Grace James  Сочи           3165  Grace James     O039  Smartphone  7950.61\n"
          ]
        }
      ]
    },
    {
      "cell_type": "markdown",
      "source": [
        "### Шаг 5: Агрегация и трансформация данных\n",
        "1. Рассчитайте общую стоимость заказа с учетом стоимости доставки:"
      ],
      "metadata": {
        "id": "jYpMB013KbEx"
      }
    },
    {
      "cell_type": "code",
      "source": [
        "final_df['Total_Cost'] = final_df['price'] + final_df['shipping_cost']\n",
        "print(final_df.head())"
      ],
      "metadata": {
        "id": "POzC1z2zKcmt",
        "colab": {
          "base_uri": "https://localhost:8080/"
        },
        "outputId": "67c260a7-8651-45a6-8c20-03f078eb0bfd"
      },
      "execution_count": 15,
      "outputs": [
        {
          "output_type": "stream",
          "name": "stdout",
          "text": [
            "          name  city  shipping_cost   buyer_name order_id     product  \\\n",
            "0  Grace James  Сочи           3165  Grace James     O006      Tablet   \n",
            "1  Grace James  Сочи           3165  Grace James     O016     Monitor   \n",
            "2  Grace James  Сочи           3165  Grace James     O033    Keyboard   \n",
            "3  Grace James  Сочи           3165  Grace James     O037     Monitor   \n",
            "4  Grace James  Сочи           3165  Grace James     O039  Smartphone   \n",
            "\n",
            "     price  Total_Cost  \n",
            "0  9064.26    12229.26  \n",
            "1  4280.71     7445.71  \n",
            "2  8922.24    12087.24  \n",
            "3  8597.30    11762.30  \n",
            "4  7950.61    11115.61  \n"
          ]
        }
      ]
    },
    {
      "cell_type": "markdown",
      "source": [
        "2. Рассчитайте общую стоимость всех заказов с учетом стоимости доставки для каждого клиента:"
      ],
      "metadata": {
        "id": "4EPtLqJbKj9R"
      }
    },
    {
      "cell_type": "code",
      "source": [
        "df_total = final_df.groupby('name')['Total_Cost'].sum()\n",
        "df_total = df_total.sort_values(ascending=False)\n",
        "df_total"
      ],
      "metadata": {
        "id": "aecPAqZJKkif",
        "colab": {
          "base_uri": "https://localhost:8080/",
          "height": 424
        },
        "outputId": "8d129c90-4581-49d6-c5f3-2901f2553800"
      },
      "execution_count": 16,
      "outputs": [
        {
          "output_type": "execute_result",
          "data": {
            "text/plain": [
              "name\n",
              "Marietta Spears        1028523.76\n",
              "Grace James             933383.62\n",
              "Bo Carr                 906651.22\n",
              "Kenneth Blankenship     902062.35\n",
              "Sammy Griffith          850398.79\n",
              "Vanessa Berry           848973.04\n",
              "Bart Sanchez            708681.44\n",
              "Mckinley Rocha          707313.28\n",
              "Cora Christian          696664.87\n",
              "Natalia Stokes          525077.53\n",
              "Name: Total_Cost, dtype: float64"
            ],
            "text/html": [
              "<div>\n",
              "<style scoped>\n",
              "    .dataframe tbody tr th:only-of-type {\n",
              "        vertical-align: middle;\n",
              "    }\n",
              "\n",
              "    .dataframe tbody tr th {\n",
              "        vertical-align: top;\n",
              "    }\n",
              "\n",
              "    .dataframe thead th {\n",
              "        text-align: right;\n",
              "    }\n",
              "</style>\n",
              "<table border=\"1\" class=\"dataframe\">\n",
              "  <thead>\n",
              "    <tr style=\"text-align: right;\">\n",
              "      <th></th>\n",
              "      <th>Total_Cost</th>\n",
              "    </tr>\n",
              "    <tr>\n",
              "      <th>name</th>\n",
              "      <th></th>\n",
              "    </tr>\n",
              "  </thead>\n",
              "  <tbody>\n",
              "    <tr>\n",
              "      <th>Marietta Spears</th>\n",
              "      <td>1028523.76</td>\n",
              "    </tr>\n",
              "    <tr>\n",
              "      <th>Grace James</th>\n",
              "      <td>933383.62</td>\n",
              "    </tr>\n",
              "    <tr>\n",
              "      <th>Bo Carr</th>\n",
              "      <td>906651.22</td>\n",
              "    </tr>\n",
              "    <tr>\n",
              "      <th>Kenneth Blankenship</th>\n",
              "      <td>902062.35</td>\n",
              "    </tr>\n",
              "    <tr>\n",
              "      <th>Sammy Griffith</th>\n",
              "      <td>850398.79</td>\n",
              "    </tr>\n",
              "    <tr>\n",
              "      <th>Vanessa Berry</th>\n",
              "      <td>848973.04</td>\n",
              "    </tr>\n",
              "    <tr>\n",
              "      <th>Bart Sanchez</th>\n",
              "      <td>708681.44</td>\n",
              "    </tr>\n",
              "    <tr>\n",
              "      <th>Mckinley Rocha</th>\n",
              "      <td>707313.28</td>\n",
              "    </tr>\n",
              "    <tr>\n",
              "      <th>Cora Christian</th>\n",
              "      <td>696664.87</td>\n",
              "    </tr>\n",
              "    <tr>\n",
              "      <th>Natalia Stokes</th>\n",
              "      <td>525077.53</td>\n",
              "    </tr>\n",
              "  </tbody>\n",
              "</table>\n",
              "</div><br><label><b>dtype:</b> float64</label>"
            ]
          },
          "metadata": {},
          "execution_count": 16
        }
      ]
    },
    {
      "cell_type": "markdown",
      "source": [
        "### Шаг 6: Визуализация данных\n",
        "1. Создайте график продаж по категориям:"
      ],
      "metadata": {
        "id": "9FoMjqupKsIf"
      }
    },
    {
      "cell_type": "code",
      "source": [
        "plt.figure(figsize=(12, 6))\n",
        "df_total.plot(kind='bar')\n",
        "plt.title('Общая сумма продаж по клиентам')\n",
        "plt.xlabel('Клиент')\n",
        "plt.ylabel('Сумма')\n",
        "plt.tight_layout()\n",
        "plt.savefig('sales_by_client.png')\n"
      ],
      "metadata": {
        "id": "XY4aSq7MKsm0",
        "colab": {
          "base_uri": "https://localhost:8080/",
          "height": 412
        },
        "outputId": "2edff283-dc2d-4978-9f48-8a8e879c959a"
      },
      "execution_count": 17,
      "outputs": [
        {
          "output_type": "display_data",
          "data": {
            "text/plain": [
              "<Figure size 1200x600 with 1 Axes>"
            ],
            "image/png": "[encoded data removed]"
          },
          "metadata": {}
        }
      ]
    },
    {
      "cell_type": "markdown",
      "source": [
        "### Шаг 7: Сохранение консолидированных данных\n",
        "Сохраните консолидированные данные в CSV-файл:"
      ],
      "metadata": {
        "id": "UuE37VJ2LA0O"
      }
    },
    {
      "cell_type": "code",
      "source": [
        "file_name = 'total_sales_by_client_data.csv'\n",
        "\n",
        "df_total.to_csv(file_name)\n",
        "print(f\"\\nКонсолидированные данные сохранены в файл '{file_name}'\")"
      ],
      "metadata": {
        "id": "58lohakrLDUW",
        "colab": {
          "base_uri": "https://localhost:8080/"
        },
        "outputId": "abd71721-ce93-477c-f36e-ed52320bded8"
      },
      "execution_count": 18,
      "outputs": [
        {
          "output_type": "stream",
          "name": "stdout",
          "text": [
            "\n",
            "Консолидированные данные сохранены в файл 'total_sales_by_client_data.csv'\n"
          ]
        }
      ]
    },
    {
      "cell_type": "code",
      "source": [
        "from google.colab import files\n",
        "\n",
        "# Скачиваем CSV файл\n",
        "files.download(file_name)"
      ],
      "metadata": {
        "id": "tpJ5Y-7RLWp6",
        "colab": {
          "base_uri": "https://localhost:8080/",
          "height": 17
        },
        "outputId": "7efdacf6-9147-46ea-ed6e-46b752033042"
      },
      "execution_count": 19,
      "outputs": [
        {
          "output_type": "display_data",
          "data": {
            "text/plain": [
              "<IPython.core.display.Javascript object>"
            ],
            "application/javascript": [
              "\n",
              "    async function download(id, filename, size) {\n",
              "      if (!google.colab.kernel.accessAllowed) {\n",
              "        return;\n",
              "      }\n",
              "      const div = document.createElement('div');\n",
              "      const label = document.createElement('label');\n",
              "      label.textContent = `Downloading \"${filename}\": `;\n",
              "      div.appendChild(label);\n",
              "      const progress = document.createElement('progress');\n",
              "      progress.max = size;\n",
              "      div.appendChild(progress);\n",
              "      document.body.appendChild(div);\n",
              "\n",
              "      const buffers = [];\n",
              "      let downloaded = 0;\n",
              "\n",
              "      const channel = await google.colab.kernel.comms.open(id);\n",
              "      // Send a message to notify the kernel that we're ready.\n",
              "      channel.send({})\n",
              "\n",
              "      for await (const message of channel.messages) {\n",
              "        // Send a message to notify the kernel that we're ready.\n",
              "        channel.send({})\n",
              "        if (message.buffers) {\n",
              "          for (const buffer of message.buffers) {\n",
              "            buffers.push(buffer);\n",
              "            downloaded += buffer.byteLength;\n",
              "            progress.value = downloaded;\n",
              "          }\n",
              "        }\n",
              "      }\n",
              "      const blob = new Blob(buffers, {type: 'application/binary'});\n",
              "      const a = document.createElement('a');\n",
              "      a.href = window.URL.createObjectURL(blob);\n",
              "      a.download = filename;\n",
              "      div.appendChild(a);\n",
              "      a.click();\n",
              "      div.remove();\n",
              "    }\n",
              "  "
            ]
          },
          "metadata": {}
        },
        {
          "output_type": "display_data",
          "data": {
            "text/plain": [
              "<IPython.core.display.Javascript object>"
            ],
            "application/javascript": [
              "download(\"download_6790e270-a22f-4ac7-a43b-4734806892af\", \"total_sales_by_client_data.csv\", 268)"
            ]
          },
          "metadata": {}
        }
      ]
    }
  ]
}